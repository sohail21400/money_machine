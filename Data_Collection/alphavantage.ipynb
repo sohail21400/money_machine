{
 "cells": [
  {
   "cell_type": "code",
   "execution_count": 1,
   "metadata": {},
   "outputs": [],
   "source": [
    "API_KEY = \"6FHUJPUDOL0WE3S7\""
   ]
  },
  {
   "cell_type": "code",
   "execution_count": 17,
   "metadata": {},
   "outputs": [
    {
     "data": {
      "text/html": [
       "<div>\n",
       "<style scoped>\n",
       "    .dataframe tbody tr th:only-of-type {\n",
       "        vertical-align: middle;\n",
       "    }\n",
       "\n",
       "    .dataframe tbody tr th {\n",
       "        vertical-align: top;\n",
       "    }\n",
       "\n",
       "    .dataframe thead th {\n",
       "        text-align: right;\n",
       "    }\n",
       "</style>\n",
       "<table border=\"1\" class=\"dataframe\">\n",
       "  <thead>\n",
       "    <tr style=\"text-align: right;\">\n",
       "      <th></th>\n",
       "      <th>1. open</th>\n",
       "      <th>2. high</th>\n",
       "      <th>3. low</th>\n",
       "      <th>4. close</th>\n",
       "      <th>5. volume</th>\n",
       "    </tr>\n",
       "    <tr>\n",
       "      <th>date</th>\n",
       "      <th></th>\n",
       "      <th></th>\n",
       "      <th></th>\n",
       "      <th></th>\n",
       "      <th></th>\n",
       "    </tr>\n",
       "  </thead>\n",
       "  <tbody>\n",
       "    <tr>\n",
       "      <th>2022-10-21 20:00:00</th>\n",
       "      <td>147.63</td>\n",
       "      <td>147.63</td>\n",
       "      <td>147.58</td>\n",
       "      <td>147.58</td>\n",
       "      <td>3455.0</td>\n",
       "    </tr>\n",
       "    <tr>\n",
       "      <th>2022-10-21 19:59:00</th>\n",
       "      <td>147.70</td>\n",
       "      <td>147.70</td>\n",
       "      <td>147.64</td>\n",
       "      <td>147.64</td>\n",
       "      <td>1003.0</td>\n",
       "    </tr>\n",
       "    <tr>\n",
       "      <th>2022-10-21 19:58:00</th>\n",
       "      <td>147.65</td>\n",
       "      <td>147.70</td>\n",
       "      <td>147.64</td>\n",
       "      <td>147.70</td>\n",
       "      <td>4161.0</td>\n",
       "    </tr>\n",
       "    <tr>\n",
       "      <th>2022-10-21 19:57:00</th>\n",
       "      <td>147.70</td>\n",
       "      <td>147.70</td>\n",
       "      <td>147.70</td>\n",
       "      <td>147.70</td>\n",
       "      <td>517.0</td>\n",
       "    </tr>\n",
       "    <tr>\n",
       "      <th>2022-10-21 19:56:00</th>\n",
       "      <td>147.64</td>\n",
       "      <td>147.66</td>\n",
       "      <td>147.63</td>\n",
       "      <td>147.66</td>\n",
       "      <td>1730.0</td>\n",
       "    </tr>\n",
       "    <tr>\n",
       "      <th>...</th>\n",
       "      <td>...</td>\n",
       "      <td>...</td>\n",
       "      <td>...</td>\n",
       "      <td>...</td>\n",
       "      <td>...</td>\n",
       "    </tr>\n",
       "    <tr>\n",
       "      <th>2022-10-10 04:05:00</th>\n",
       "      <td>139.16</td>\n",
       "      <td>139.16</td>\n",
       "      <td>139.16</td>\n",
       "      <td>139.16</td>\n",
       "      <td>835.0</td>\n",
       "    </tr>\n",
       "    <tr>\n",
       "      <th>2022-10-10 04:04:00</th>\n",
       "      <td>139.35</td>\n",
       "      <td>139.35</td>\n",
       "      <td>139.25</td>\n",
       "      <td>139.25</td>\n",
       "      <td>1893.0</td>\n",
       "    </tr>\n",
       "    <tr>\n",
       "      <th>2022-10-10 04:03:00</th>\n",
       "      <td>139.36</td>\n",
       "      <td>139.36</td>\n",
       "      <td>139.36</td>\n",
       "      <td>139.36</td>\n",
       "      <td>1560.0</td>\n",
       "    </tr>\n",
       "    <tr>\n",
       "      <th>2022-10-10 04:02:00</th>\n",
       "      <td>139.43</td>\n",
       "      <td>139.43</td>\n",
       "      <td>139.29</td>\n",
       "      <td>139.29</td>\n",
       "      <td>1199.0</td>\n",
       "    </tr>\n",
       "    <tr>\n",
       "      <th>2022-10-10 04:01:00</th>\n",
       "      <td>139.95</td>\n",
       "      <td>139.95</td>\n",
       "      <td>139.50</td>\n",
       "      <td>139.50</td>\n",
       "      <td>2319.0</td>\n",
       "    </tr>\n",
       "  </tbody>\n",
       "</table>\n",
       "<p>8145 rows × 5 columns</p>\n",
       "</div>"
      ],
      "text/plain": [
       "                     1. open  2. high  3. low  4. close  5. volume\n",
       "date                                                              \n",
       "2022-10-21 20:00:00   147.63   147.63  147.58    147.58     3455.0\n",
       "2022-10-21 19:59:00   147.70   147.70  147.64    147.64     1003.0\n",
       "2022-10-21 19:58:00   147.65   147.70  147.64    147.70     4161.0\n",
       "2022-10-21 19:57:00   147.70   147.70  147.70    147.70      517.0\n",
       "2022-10-21 19:56:00   147.64   147.66  147.63    147.66     1730.0\n",
       "...                      ...      ...     ...       ...        ...\n",
       "2022-10-10 04:05:00   139.16   139.16  139.16    139.16      835.0\n",
       "2022-10-10 04:04:00   139.35   139.35  139.25    139.25     1893.0\n",
       "2022-10-10 04:03:00   139.36   139.36  139.36    139.36     1560.0\n",
       "2022-10-10 04:02:00   139.43   139.43  139.29    139.29     1199.0\n",
       "2022-10-10 04:01:00   139.95   139.95  139.50    139.50     2319.0\n",
       "\n",
       "[8145 rows x 5 columns]"
      ]
     },
     "execution_count": 17,
     "metadata": {},
     "output_type": "execute_result"
    }
   ],
   "source": [
    "from alpha_vantage.timeseries import TimeSeries\n",
    "\n",
    "ts = TimeSeries(key=API_KEY, output_format='pandas')\n",
    "data = ts.get_intraday(symbol='AAPL', interval='1min', outputsize='full')[0]\n",
    "metadata = ts.get_intraday(symbol='AAPL', interval='1min', outputsize='full')[1]\n",
    "data"
   ]
  },
  {
   "cell_type": "code",
   "execution_count": 18,
   "metadata": {},
   "outputs": [
    {
     "data": {
      "text/plain": [
       "{'1. Information': 'Intraday (1min) open, high, low, close prices and volume',\n",
       " '2. Symbol': 'AAPL',\n",
       " '3. Last Refreshed': '2022-10-21 20:00:00',\n",
       " '4. Interval': '1min',\n",
       " '5. Output Size': 'Full size',\n",
       " '6. Time Zone': 'US/Eastern'}"
      ]
     },
     "execution_count": 18,
     "metadata": {},
     "output_type": "execute_result"
    }
   ],
   "source": [
    "metadata"
   ]
  },
  {
   "cell_type": "code",
   "execution_count": null,
   "metadata": {},
   "outputs": [],
   "source": []
  }
 ],
 "metadata": {
  "kernelspec": {
   "display_name": "Python 3.10.7 64-bit",
   "language": "python",
   "name": "python3"
  },
  "language_info": {
   "codemirror_mode": {
    "name": "ipython",
    "version": 3
   },
   "file_extension": ".py",
   "mimetype": "text/x-python",
   "name": "python",
   "nbconvert_exporter": "python",
   "pygments_lexer": "ipython3",
   "version": "3.10.7"
  },
  "orig_nbformat": 4,
  "vscode": {
   "interpreter": {
    "hash": "aee8b7b246df8f9039afb4144a1f6fd8d2ca17a180786b69acc140d282b71a49"
   }
  }
 },
 "nbformat": 4,
 "nbformat_minor": 2
}
