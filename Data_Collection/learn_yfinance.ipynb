{
 "cells": [
  {
   "cell_type": "markdown",
   "metadata": {},
   "source": [
    "The requested range must be within the last 60 days, if interval=\"5m\" <br>\n",
    "Valid intervals: [1m, 2m, 5m, 15m, 30m, 60m, 90m, 1h, 1d, 5d, 1wk, 1mo, 3mo]"
   ]
  },
  {
   "cell_type": "code",
   "execution_count": 26,
   "metadata": {},
   "outputs": [
    {
     "name": "stdout",
     "output_type": "stream",
     "text": [
      "[*********************100%***********************]  1 of 1 completed\n",
      "17994\n"
     ]
    },
    {
     "data": {
      "text/html": [
       "<div>\n",
       "<style scoped>\n",
       "    .dataframe tbody tr th:only-of-type {\n",
       "        vertical-align: middle;\n",
       "    }\n",
       "\n",
       "    .dataframe tbody tr th {\n",
       "        vertical-align: top;\n",
       "    }\n",
       "\n",
       "    .dataframe thead th {\n",
       "        text-align: right;\n",
       "    }\n",
       "</style>\n",
       "<table border=\"1\" class=\"dataframe\">\n",
       "  <thead>\n",
       "    <tr style=\"text-align: right;\">\n",
       "      <th></th>\n",
       "      <th>Open</th>\n",
       "      <th>High</th>\n",
       "      <th>Low</th>\n",
       "      <th>Close</th>\n",
       "      <th>Adj Close</th>\n",
       "      <th>Volume</th>\n",
       "    </tr>\n",
       "    <tr>\n",
       "      <th>Datetime</th>\n",
       "      <th></th>\n",
       "      <th></th>\n",
       "      <th></th>\n",
       "      <th></th>\n",
       "      <th></th>\n",
       "      <th></th>\n",
       "    </tr>\n",
       "  </thead>\n",
       "  <tbody>\n",
       "    <tr>\n",
       "      <th>2022-10-14 15:10:00+05:30</th>\n",
       "      <td>2373.399902</td>\n",
       "      <td>2373.449951</td>\n",
       "      <td>2369.649902</td>\n",
       "      <td>2371.449951</td>\n",
       "      <td>2371.449951</td>\n",
       "      <td>184301</td>\n",
       "    </tr>\n",
       "    <tr>\n",
       "      <th>2022-10-14 15:15:00+05:30</th>\n",
       "      <td>2371.149902</td>\n",
       "      <td>2372.199951</td>\n",
       "      <td>2369.399902</td>\n",
       "      <td>2370.550049</td>\n",
       "      <td>2370.550049</td>\n",
       "      <td>208669</td>\n",
       "    </tr>\n",
       "    <tr>\n",
       "      <th>2022-10-14 15:20:00+05:30</th>\n",
       "      <td>2370.449951</td>\n",
       "      <td>2372.250000</td>\n",
       "      <td>2369.449951</td>\n",
       "      <td>2370.149902</td>\n",
       "      <td>2370.149902</td>\n",
       "      <td>164206</td>\n",
       "    </tr>\n",
       "    <tr>\n",
       "      <th>2022-10-14 15:25:00+05:30</th>\n",
       "      <td>2370.149902</td>\n",
       "      <td>2374.649902</td>\n",
       "      <td>2369.300049</td>\n",
       "      <td>2373.000000</td>\n",
       "      <td>2373.000000</td>\n",
       "      <td>186391</td>\n",
       "    </tr>\n",
       "    <tr>\n",
       "      <th>2022-10-14 15:30:00+05:30</th>\n",
       "      <td>2370.699951</td>\n",
       "      <td>2370.699951</td>\n",
       "      <td>2370.699951</td>\n",
       "      <td>2370.699951</td>\n",
       "      <td>2370.699951</td>\n",
       "      <td>0</td>\n",
       "    </tr>\n",
       "  </tbody>\n",
       "</table>\n",
       "</div>"
      ],
      "text/plain": [
       "                                  Open         High          Low        Close  \\\n",
       "Datetime                                                                        \n",
       "2022-10-14 15:10:00+05:30  2373.399902  2373.449951  2369.649902  2371.449951   \n",
       "2022-10-14 15:15:00+05:30  2371.149902  2372.199951  2369.399902  2370.550049   \n",
       "2022-10-14 15:20:00+05:30  2370.449951  2372.250000  2369.449951  2370.149902   \n",
       "2022-10-14 15:25:00+05:30  2370.149902  2374.649902  2369.300049  2373.000000   \n",
       "2022-10-14 15:30:00+05:30  2370.699951  2370.699951  2370.699951  2370.699951   \n",
       "\n",
       "                             Adj Close  Volume  \n",
       "Datetime                                        \n",
       "2022-10-14 15:10:00+05:30  2371.449951  184301  \n",
       "2022-10-14 15:15:00+05:30  2370.550049  208669  \n",
       "2022-10-14 15:20:00+05:30  2370.149902  164206  \n",
       "2022-10-14 15:25:00+05:30  2373.000000  186391  \n",
       "2022-10-14 15:30:00+05:30  2370.699951       0  "
      ]
     },
     "execution_count": 26,
     "metadata": {},
     "output_type": "execute_result"
    }
   ],
   "source": [
    "#!pip install yfinance\n",
    "#!pip install mplfinance\n",
    "import yfinance as yf\n",
    "import mplfinance as mpf\n",
    "from datetime import datetime\n",
    "\n",
    "\n",
    "# The requested range must be within the last 60 days, if interval=\"5m\", 30 days if interval=\"1m\"\n",
    "# Valid intervals: [1m, 2m, 5m, 15m, 30m, 60m, 90m, 1h, 1d, 5d, 1wk, 1mo, 3mo]\n",
    "# Only 7 days worth of 1m granularity data are allowed to be fetched per request.\n",
    "\n",
    "start_date = datetime(2022, 8, 18)\n",
    "end_date = datetime(2023, 9, 29)\n",
    "\n",
    "df = yf.download(tickers='RELIANCE.NS', start=start_date, end=end_date, interval=\"5m\")\n",
    "print(df.size)\n",
    "df.tail()\n",
    "\n",
    "# mpf.plot(df,type='candle',mav=(3,6,9),volume=True)"
   ]
  },
  {
   "cell_type": "code",
   "execution_count": null,
   "metadata": {},
   "outputs": [],
   "source": []
  }
 ],
 "metadata": {
  "kernelspec": {
   "display_name": "Python 3.10.7 64-bit",
   "language": "python",
   "name": "python3"
  },
  "language_info": {
   "codemirror_mode": {
    "name": "ipython",
    "version": 3
   },
   "file_extension": ".py",
   "mimetype": "text/x-python",
   "name": "python",
   "nbconvert_exporter": "python",
   "pygments_lexer": "ipython3",
   "version": "3.10.7"
  },
  "orig_nbformat": 4,
  "vscode": {
   "interpreter": {
    "hash": "aee8b7b246df8f9039afb4144a1f6fd8d2ca17a180786b69acc140d282b71a49"
   }
  }
 },
 "nbformat": 4,
 "nbformat_minor": 2
}
