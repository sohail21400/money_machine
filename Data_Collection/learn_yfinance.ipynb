{
 "cells": [
  {
   "cell_type": "markdown",
   "metadata": {},
   "source": [
    "# Yahoo Finance Data"
   ]
  },
  {
   "cell_type": "markdown",
   "metadata": {},
   "source": [
    "The requested range must be within the last 60 days, if interval=\"5m\", 30 days if interval=\"1m\" <br>\n",
    "Valid intervals: [1m, 2m, 5m, 15m, 30m, 60m, 90m, 1h, 1d, 5d, 1wk, 1mo, 3mo] <br>\n",
    "Only 7 days worth of 1m granularity data are allowed to be fetched per request.<br>"
   ]
  },
  {
   "cell_type": "code",
   "execution_count": 27,
   "metadata": {},
   "outputs": [
    {
     "name": "stdout",
     "output_type": "stream",
     "text": [
      "Download data from yahoo finance\n",
      "Interval: 5m\n",
      "RELIANCE.NS\n",
      "MENU\n",
      "1. Download data for last 60 days\n",
      "2. Download data from the start date specified\n"
     ]
    }
   ],
   "source": [
    "import yfinance as yf\n",
    "import mplfinance as mpf\n",
    "import datetime as dt\n",
    "\n",
    "print(\"Download data from yahoo finance\")\n",
    "print(\"Interval: 5m\")\n",
    "symbol = input(\"Enter the stock ticker (eg.RELIANCE.NS): \")\n",
    "print(symbol)\n",
    "\n",
    "print(\"MENU\")\n",
    "print(\"1. Download data for last 60 days\")\n",
    "print(\"2. Download data from the start date specified\")\n",
    "option = input(\"Option: \")"
   ]
  },
  {
   "cell_type": "code",
   "execution_count": 28,
   "metadata": {},
   "outputs": [
    {
     "name": "stdout",
     "output_type": "stream",
     "text": [
      "Start date:  2022-08-25\n",
      "End date:  2022-10-23\n"
     ]
    }
   ],
   "source": [
    "\n",
    "if option == \"1\":\n",
    "    start_date = dt.datetime.today() - dt.timedelta(59)\n",
    "    end_date = dt.datetime.today()\n",
    "\n",
    "elif option == \"2\":\n",
    "    user_input_start_date = input(\"Enter the start date (YYYY-MM-DD): \")\n",
    "\n",
    "    start_date = dt.datetime.strptime(user_input_start_date, '%Y-%m-%d')\n",
    "    end_date = start_date + dt.timedelta(59)\n",
    "\n",
    "print(\"Start date: \", start_date.date())\n",
    "print(\"End date: \", end_date.date())"
   ]
  },
  {
   "cell_type": "code",
   "execution_count": 29,
   "metadata": {},
   "outputs": [
    {
     "name": "stdout",
     "output_type": "stream",
     "text": [
      "[*********************100%***********************]  1 of 1 completed\n",
      "Number of candles: 17676\n"
     ]
    },
    {
     "data": {
      "text/html": [
       "<div>\n",
       "<style scoped>\n",
       "    .dataframe tbody tr th:only-of-type {\n",
       "        vertical-align: middle;\n",
       "    }\n",
       "\n",
       "    .dataframe tbody tr th {\n",
       "        vertical-align: top;\n",
       "    }\n",
       "\n",
       "    .dataframe thead th {\n",
       "        text-align: right;\n",
       "    }\n",
       "</style>\n",
       "<table border=\"1\" class=\"dataframe\">\n",
       "  <thead>\n",
       "    <tr style=\"text-align: right;\">\n",
       "      <th></th>\n",
       "      <th>Open</th>\n",
       "      <th>High</th>\n",
       "      <th>Low</th>\n",
       "      <th>Close</th>\n",
       "      <th>Adj Close</th>\n",
       "      <th>Volume</th>\n",
       "    </tr>\n",
       "    <tr>\n",
       "      <th>Datetime</th>\n",
       "      <th></th>\n",
       "      <th></th>\n",
       "      <th></th>\n",
       "      <th></th>\n",
       "      <th></th>\n",
       "      <th></th>\n",
       "    </tr>\n",
       "  </thead>\n",
       "  <tbody>\n",
       "    <tr>\n",
       "      <th>2022-08-25 13:40:00</th>\n",
       "      <td>2660.600098</td>\n",
       "      <td>2661.000000</td>\n",
       "      <td>2659.000000</td>\n",
       "      <td>2659.899902</td>\n",
       "      <td>2659.899902</td>\n",
       "      <td>0</td>\n",
       "    </tr>\n",
       "    <tr>\n",
       "      <th>2022-08-25 13:45:00</th>\n",
       "      <td>2660.600098</td>\n",
       "      <td>2660.600098</td>\n",
       "      <td>2656.000000</td>\n",
       "      <td>2657.199951</td>\n",
       "      <td>2657.199951</td>\n",
       "      <td>38670</td>\n",
       "    </tr>\n",
       "    <tr>\n",
       "      <th>2022-08-25 13:50:00</th>\n",
       "      <td>2657.500000</td>\n",
       "      <td>2658.850098</td>\n",
       "      <td>2656.149902</td>\n",
       "      <td>2657.600098</td>\n",
       "      <td>2657.600098</td>\n",
       "      <td>21441</td>\n",
       "    </tr>\n",
       "    <tr>\n",
       "      <th>2022-08-25 13:55:00</th>\n",
       "      <td>2657.600098</td>\n",
       "      <td>2659.199951</td>\n",
       "      <td>2656.250000</td>\n",
       "      <td>2656.399902</td>\n",
       "      <td>2656.399902</td>\n",
       "      <td>36663</td>\n",
       "    </tr>\n",
       "    <tr>\n",
       "      <th>2022-08-25 14:00:00</th>\n",
       "      <td>2656.899902</td>\n",
       "      <td>2657.000000</td>\n",
       "      <td>2654.000000</td>\n",
       "      <td>2656.149902</td>\n",
       "      <td>2656.149902</td>\n",
       "      <td>38094</td>\n",
       "    </tr>\n",
       "    <tr>\n",
       "      <th>...</th>\n",
       "      <td>...</td>\n",
       "      <td>...</td>\n",
       "      <td>...</td>\n",
       "      <td>...</td>\n",
       "      <td>...</td>\n",
       "      <td>...</td>\n",
       "    </tr>\n",
       "    <tr>\n",
       "      <th>2022-10-21 15:10:00</th>\n",
       "      <td>2473.350098</td>\n",
       "      <td>2474.899902</td>\n",
       "      <td>2472.350098</td>\n",
       "      <td>2472.550049</td>\n",
       "      <td>2472.550049</td>\n",
       "      <td>58131</td>\n",
       "    </tr>\n",
       "    <tr>\n",
       "      <th>2022-10-21 15:15:00</th>\n",
       "      <td>2473.050049</td>\n",
       "      <td>2473.050049</td>\n",
       "      <td>2469.000000</td>\n",
       "      <td>2469.949951</td>\n",
       "      <td>2469.949951</td>\n",
       "      <td>109824</td>\n",
       "    </tr>\n",
       "    <tr>\n",
       "      <th>2022-10-21 15:20:00</th>\n",
       "      <td>2469.899902</td>\n",
       "      <td>2470.649902</td>\n",
       "      <td>2467.250000</td>\n",
       "      <td>2468.850098</td>\n",
       "      <td>2468.850098</td>\n",
       "      <td>139209</td>\n",
       "    </tr>\n",
       "    <tr>\n",
       "      <th>2022-10-21 15:25:00</th>\n",
       "      <td>2469.000000</td>\n",
       "      <td>2470.000000</td>\n",
       "      <td>2467.699951</td>\n",
       "      <td>2470.000000</td>\n",
       "      <td>2470.000000</td>\n",
       "      <td>117142</td>\n",
       "    </tr>\n",
       "    <tr>\n",
       "      <th>2022-10-21 15:30:00</th>\n",
       "      <td>2471.600098</td>\n",
       "      <td>2471.600098</td>\n",
       "      <td>2471.600098</td>\n",
       "      <td>2471.600098</td>\n",
       "      <td>2471.600098</td>\n",
       "      <td>0</td>\n",
       "    </tr>\n",
       "  </tbody>\n",
       "</table>\n",
       "<p>2946 rows × 6 columns</p>\n",
       "</div>"
      ],
      "text/plain": [
       "                            Open         High          Low        Close  \\\n",
       "Datetime                                                                  \n",
       "2022-08-25 13:40:00  2660.600098  2661.000000  2659.000000  2659.899902   \n",
       "2022-08-25 13:45:00  2660.600098  2660.600098  2656.000000  2657.199951   \n",
       "2022-08-25 13:50:00  2657.500000  2658.850098  2656.149902  2657.600098   \n",
       "2022-08-25 13:55:00  2657.600098  2659.199951  2656.250000  2656.399902   \n",
       "2022-08-25 14:00:00  2656.899902  2657.000000  2654.000000  2656.149902   \n",
       "...                          ...          ...          ...          ...   \n",
       "2022-10-21 15:10:00  2473.350098  2474.899902  2472.350098  2472.550049   \n",
       "2022-10-21 15:15:00  2473.050049  2473.050049  2469.000000  2469.949951   \n",
       "2022-10-21 15:20:00  2469.899902  2470.649902  2467.250000  2468.850098   \n",
       "2022-10-21 15:25:00  2469.000000  2470.000000  2467.699951  2470.000000   \n",
       "2022-10-21 15:30:00  2471.600098  2471.600098  2471.600098  2471.600098   \n",
       "\n",
       "                       Adj Close  Volume  \n",
       "Datetime                                  \n",
       "2022-08-25 13:40:00  2659.899902       0  \n",
       "2022-08-25 13:45:00  2657.199951   38670  \n",
       "2022-08-25 13:50:00  2657.600098   21441  \n",
       "2022-08-25 13:55:00  2656.399902   36663  \n",
       "2022-08-25 14:00:00  2656.149902   38094  \n",
       "...                          ...     ...  \n",
       "2022-10-21 15:10:00  2472.550049   58131  \n",
       "2022-10-21 15:15:00  2469.949951  109824  \n",
       "2022-10-21 15:20:00  2468.850098  139209  \n",
       "2022-10-21 15:25:00  2470.000000  117142  \n",
       "2022-10-21 15:30:00  2471.600098       0  \n",
       "\n",
       "[2946 rows x 6 columns]"
      ]
     },
     "execution_count": 29,
     "metadata": {},
     "output_type": "execute_result"
    }
   ],
   "source": [
    "df = yf.download(tickers=symbol, start=start_date, end=end_date, interval=\"5m\")\n",
    "print(f\"Number of candles: {df.size}\")\n",
    "df"
   ]
  },
  {
   "cell_type": "code",
   "execution_count": 34,
   "metadata": {},
   "outputs": [],
   "source": [
    "# saving the data to a csv file\n",
    "df.to_csv(f\"{symbol}-{start_date.date()}-to-{end_date.date()}.csv\")"
   ]
  },
  {
   "cell_type": "code",
   "execution_count": null,
   "metadata": {},
   "outputs": [],
   "source": [
    "# plot the data\n",
    "mpf.plot(df,type='candle',mav=(3,6,9),volume=True)"
   ]
  }
 ],
 "metadata": {
  "kernelspec": {
   "display_name": "Python 3.10.8 64-bit (microsoft store)",
   "language": "python",
   "name": "python3"
  },
  "language_info": {
   "codemirror_mode": {
    "name": "ipython",
    "version": 3
   },
   "file_extension": ".py",
   "mimetype": "text/x-python",
   "name": "python",
   "nbconvert_exporter": "python",
   "pygments_lexer": "ipython3",
   "version": "3.10.8"
  },
  "orig_nbformat": 4,
  "vscode": {
   "interpreter": {
    "hash": "c7d9d4a7a31fb789a888efa752d27d44160a0445d524aaaa852efacd23fb5b8c"
   }
  }
 },
 "nbformat": 4,
 "nbformat_minor": 2
}
